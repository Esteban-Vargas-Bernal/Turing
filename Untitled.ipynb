{
 "cells": [
  {
   "cell_type": "markdown",
   "metadata": {
    "deletable": true,
    "editable": true
   },
   "source": [
    "# Turing patterns\n",
    "\n",
    "This is a tutorial that aims to explore some Turing patters for different reaction functions. We explain and use the method of finite differences to similute the model.\n",
    "\n",
    "The general form of the model is given by a diffusion-reaction equation\n",
    "\n",
    "$$ \\frac{\\partial \\bar{u}}{\\partial t} = D \\nabla ^2 \\bar{u} + f(u)$$ where:\n",
    "\n",
    "* $\\bar{u}(t, \\bar{x}) = (u_1(t, \\bar{x},\\ldots, u_k(t, \\bar{x}))$ is a vector that contains the chemical consentrations of $k$ morphogens that control the system. Each function depends on time $t$ and spatial variables $\\bar{x}$.\n",
    "\n",
    "* $D$ is a matrix that contains the diffusion coefficients.\n",
    "\n",
    "* The raction kinetics is the function $f(\\bar{u})$.\n"
   ]
  },
  {
   "cell_type": "markdown",
   "metadata": {
    "deletable": true,
    "editable": true
   },
   "source": [
    "# Some reaction patterns\n",
    "\n",
    "## Gierer–Meinhardt Kinetics (1972)\n",
    "\n",
    "This is a reaction-diffusion system that has an activator $u$  and an inhibitor $v$. It account for many important types of pattern formation and morphogenes is observed in development. Proof of that requires identification of the purported morphogens, measurement of their spatiotemporal concentrations and kinetics, and demonstration by knockouts or other genetic manipulations that they are essential components of the observed pattern formation. In the book of Mathematical Biology of Murray the qualitative analysis of this system is presented. The dimensionless version of the model is:\n",
    "\n",
    "$$ \\frac{du}{dt}= c_1 - c_2u + c_3\\frac{u^2}{v(1+ku^2)} := f(u,v)$$ and $$ \\frac{dv}{dt}= c_4 u^2 - c_5 v := g(u,v)$$\n",
    "\n",
    "The inhibitor $v$ is produced due to the autocatalysis of $u$.\n",
    "\n",
    "The model is used to explain the horizontal stripes in the tropical zebra fish. Skin patterns of the fish are maintained by interactions between black and yellow pigmented cells cells that interact according to the proposed model.\n",
    "\n",
    "## Schnakenberg Kinetics \n",
    "\n",
    "This is a simplification of the previous model. Here, $v$ can be thought as a substrate that triggers the catalysis of $u$. \n",
    "\n",
    "$$ \\frac{du}{dt}= c_1 - c_2u + c_3u^2 v := f(u,v)$$ and $$ \\frac{dv}{dt}= c_2 - c_3 u^2v := g(u,v) $$\n",
    "\n",
    "This substrate would be supplied in a constant rate.\n",
    "\n",
    "## Thomas Kinetics (1975)\n",
    "\n",
    "This model was created to explain the reaction involving the substrates oxygen $v$ and uric acid $u$ which react in in presence of an enzyme called uricase.   \n",
    "\n",
    "$$ \\frac{du}{dt}= c_1 - c_2u - c_3 R(u,v)  := f(u,v)$$ and $$\\frac{dv}{dt}= c_4 - c_5 v - c_3 R(u,v) := g(u,v)$$\n",
    "where\n",
    "\n",
    "$$R(u,v) := \\frac{uv}{1+u+Ku^2}$$\n",
    "\n",
    "The term $R(u,v)$ exhibits \"substrate inhibition\", that is, if $u$ is small then $R$ increases, but if $u$ is large then $R$ decreases. Here, both substrates are externally supplied in constant rate and have first-order kinetics removal. In the book of Murray the stability of the system is studied. It is shown that the system could have three steady points and two of them could be stable.\n",
    "\n",
    "## Fitzhug-Nagumo kinetics (1961) \n",
    "\n",
    "This model is a simplification of the model of Hudking-Huxley for the action potential in a neuron. The model relates the membrane potential $v$ and the activation of channels of Sodium and Potassium represented by $u$.\n",
    "\n",
    "$$ \\frac{dv}{dt}= v - \\frac{v^3}{3}-u +I_{ext} := f(u,v)$$ and $$  \\frac{du}{dt}= \\frac{1}{\\tau}(v + a - bu) := g(u,v) $$\n",
    "\n",
    "This system has the property that if $I_{ext}$ exceeds a certain treshold, there will be periodic solutions."
   ]
  },
  {
   "cell_type": "markdown",
   "metadata": {
    "deletable": true,
    "editable": true
   },
   "source": [
    "# Something on PDE\n",
    "\n",
    "A PDE is a diffrential equation that involves functions that depend on several variables and their partial derivatives. \n",
    "\n",
    "One known example is the heat equation $$ \\frac{\\partial u(x,y,t)}{\\partial t} = -k \\nabla^2 u(x,y,y) = -k(\\frac{\\partial^2 u(x,y,t)}{\\partial x^2}+\\frac{\\partial^2 u(x,y,t)}{\\partial y^2})  $$\n",
    "\n",
    "Or simply $$ \\frac{\\partial u}{\\partial t} = -k \\nabla^2 u $$\n",
    "\n",
    "where $u(x,y,t)$ could represent the temperature in the point $(x,y)$ at the time $t$. We could be interested in the function $u(x,y,z)$ defined on a set $\\Omega \\subset \\mathbb{R}^2\\times  \\mathbb{R}$. For example, $\\Omega := [0,1]^2\\times [0, \\infty)$\n",
    "\n",
    "See example of the evolution of this equation for exponential solutions in  https://www.youtube.com/watch?v=6QtADgmCGLM There is a code in the description of the video.\n",
    "\n",
    "\n",
    "## Types of Boundary Conditions\n",
    " \n",
    " ### Dirichlet boundary conditions (first type)\n",
    " \n",
    " Constraints of the values of the function $u$ on the boundary of the domain $\\Omega$. For example, if $\\Omega := [a,b] \\subseteq \\mathbb{R}$ and  $$ u''(x) + u(x) = 0 $$\n",
    "the Dirichlet conditions have the form $$ u(a) = \\alpha, u(b) = \\beta  $$\n",
    "\n",
    "Now, if $\\Omega \\subseteq \\mathbb{R}^2$ and $$ \\frac{\\partial ^2 u(x,y)}{\\partial x ^2} +\\frac{\\partial ^2 u(x,y)}{\\partial y ^2} + y =0 $$\n",
    "the Dirichlet conditions have the form $$ u(x,y) = f(x,y) $$\n",
    "for $(x,y) \\in \\partial \\Omega $\n",
    "\n",
    "\n",
    " ### Nuemann boundary conditions (Second type)\n",
    " \n",
    "  Constraints of the values of the directional derivative $\\partial u / \\partial n$ on the boundary of the domain $\\Omega$ in the normal direction $n$. For example, if $\\Omega := [a,b] \\subseteq \\mathbb{R}$ and  $$ u''(x) + u(x) = 0 $$\n",
    "the Neumann conditions have the form $$ u'(a) = \\alpha, u'(b) = \\beta  $$\n",
    "\n",
    "Now, if $\\Omega \\subseteq \\mathbb{R}^2$ and $$ \\frac{\\partial ^2 u(x,y)}{\\partial x ^2} +\\frac{\\partial ^2 u(x,y)}{\\partial y ^2} + y =0 $$\n",
    "the Nuemann conditions have the form $$ \\frac{\\partial u(x,y) }{\\partial n} = f(x,y) $$\n",
    "for $(x,y) \\in \\partial \\Omega $, where $n$ is normal exterior to the boundary $\\partial \\Omega$.\n",
    "\n",
    "<img src=\"files/omegac.png\">\n",
    "\n",
    "\n",
    " ### Cauchy boundary conditions \n",
    " \n",
    "  Constraints are both Dirichlet and Neumann. For example, if $\\Omega := [a,\\infty) \\subseteq \\mathbb{R}$ and  $$ u''(x) + u(x) = 0 $$\n",
    "the Cauchy conditions have the form $$ u(a) = \\alpha_0, u'(a) = \\alpha  $$\n",
    "\n",
    "Now, if $\\Omega \\subseteq \\mathbb{R}^2$ and $$ \\frac{\\partial ^2 u(x,y)}{\\partial x ^2} +\\frac{\\partial ^2 u(x,y)}{\\partial y ^2} + y =0 $$\n",
    "the Cauchy conditions have the form $$ u(x,y) = f_0(x,y) $$ and\n",
    "$$ \\frac{\\partial u(x,y) }{\\partial n} = f_1(x,y) $$\n",
    "for $(x,y) \\in \\partial \\Omega $, where $n$ is normal exterior to the boundary $\\partial \\Omega$.\n",
    "\n",
    "<img src=\"files/omega33.png\">\n",
    "\n",
    "\n",
    "### Boundary Conditions for Turing model\n",
    "\n",
    "We consider $$ \\Omega := [0,1]^2\\times [0,\\infty) $$\n",
    "The conditions that we considere are Neumann conditions (zero Flux conditions) on the points $(x,y,t)$ where $(x,y)$ are in the boundary of $[0,1]^2$. For the points $(x,y,0)$ where $(x,y)$ are any point in $[0,1]^2$ we consider a Dirichlet condition.\n",
    " \n",
    "<img src=\"files/omega22.png\">\n",
    "\n",
    "## Finite difference method\n",
    "\n",
    "## Euler method\n",
    "\n",
    "For more details, see http://nbviewer.jupyter.org/github/diogro/ode_examples/blob/master/Numerical%20Integration%20Tutorial.ipynb?create=1\n",
    "\n",
    "This method uses approximations of the definition of the derivative. For a function $u(t)$ we define the derivative at $t_0$ as $$ \\frac{du(t_0)}{dt}= u'(t_0):= lim_{\\Delta t \\rightarrow 0} \\frac{u(t_0+\\Delta t) - u(t_0)}{\\Delta t} $$\n",
    "\n",
    "In consequence, if $\\Delta \\approx 0$ we have $$ u'(t_0) \\approx \\frac{u(t_0+\\Delta t) - u(t_0)}{\\Delta t}$$\n",
    "and $$  u(t_0+\\Delta t) \\approx u(t_0) + u'(t_0)\\Delta t$$\n",
    "\n",
    "Now, let us consider the differential equation $$ \\frac{du(u)}{dt} = f(u) $$ with initial condition $u(t_0)=u_0$. Let us suppose that we are interested in $u$ on the interval $[a,b]$.  Recursively, fixing a small $\\Delta t = (b-a)/n$ we can obtain an approximation of the function on $[a,b]$. We define $ t_i = a + i \\Delta t $, for $i=0,1, \\ldots, n$. In this way, $a=t_0 < t_1 < \\ldots < t_n=b$\n",
    "\n",
    "$$ u(t_0) = u_0 $$ \n",
    "then \n",
    "$$ u(t_1) = u(t_0+\\Delta t) \\approx u_0 + f(u_0)\\Delta t := u_1 $$\n",
    "then\n",
    "$$ u(t_2) = u(t_1+\\Delta t) \\approx u_1 + f(u_1)\\Delta t := u_2 $$\n",
    "... in general ...\n",
    "\n",
    "$$ u(t_{i+1}) = u(t_i+\\Delta t) \\approx u_i + f(u_i)\\Delta t := u_{i+1} $$\n",
    "\n",
    "Therefore, the values $u_0,u_1, \\ldots, u_n$ represent an approximation of the function $u$. In the following example, we consider the logistic equation $$ \\frac{du}{dt} = u(1-u) $$\n",
    "\n",
    "The blue line in the plot represents the approximation points $u_0, \\ldots, u_n$. The orange line represents the analytic solution $$ u(t) = \\frac{u_0 e^t}{1+u_0(e^t -1)} $$ "
   ]
  },
  {
   "cell_type": "code",
   "execution_count": 6,
   "metadata": {
    "collapsed": false
   },
   "outputs": [
    {
     "data": {
      "text/plain": [
       "<matplotlib.legend.Legend at 0x1094eac50>"
      ]
     },
     "execution_count": 6,
     "metadata": {},
     "output_type": "execute_result"
    },
    {
     "data": {
      "image/png": "[encoded data removed]",
      "text/plain": [
       "<matplotlib.figure.Figure at 0x1094f0c88>"
      ]
     },
     "metadata": {},
     "output_type": "display_data"
    }
   ],
   "source": [
    "%matplotlib inline\n",
    "from numpy import *\n",
    "from matplotlib.pyplot import *\n",
    "\n",
    "u0 = 0.1\n",
    "a=0\n",
    "b=10\n",
    "n = 20\n",
    "Dt = (b-1)/n \n",
    "\n",
    "# time intervals\n",
    "tt = arange(a, b, Dt)\n",
    "# initial condition\n",
    "uu = [u0]\n",
    "\n",
    "def f(u):\n",
    "    return u * (1.-u)\n",
    "\n",
    "# loop over time\n",
    "for t in tt[1:]:\n",
    "    uu.append(uu[-1] +  f(uu[-1])*Dt)\n",
    "\n",
    "# plotting\n",
    "plot(tt, uu, '.-')\n",
    "ta = arange(0, 10, 0.01)\n",
    "plot(ta, u0 * exp(ta)/(1+u0*(exp(ta)-1.)))\n",
    "xlabel('t')\n",
    "ylabel('u')\n",
    "legend(['approximation', 'analytical solution'], loc='best',)"
   ]
  },
  {
   "cell_type": "markdown",
   "metadata": {},
   "source": [
    "Let us consider the system $$ \\frac{du}{dt}= D_u\\nabla^2u + f(u,v)  $$ and $$ \\frac{dv}{dt}= D_v\\nabla^2v +  g(u,v)$$\n",
    "\n",
    "where $$\\nabla ^2 u =  \\frac{\\partial^2 u(x,y,t)}{\\partial x^2}+\\frac{\\partial^2 u(x,y,t)}{\\partial y^2} $$ and  $$\\nabla ^2 v =  \\frac{\\partial^2 u(x,y,t)}{\\partial x^2}+\\frac{\\partial^2 u(x,y,t)}{\\partial y^2} $$\n",
    "Using the Euler method, if $t \\in [0,t_f]$, for fixed $x$ and $y$ and small $\\Delta t$ we can take the approximations $$ u(x,y, t_{i+1}) = u(x,y,t_i) + [D_u\\nabla^2 u(x,y,t_i)+f(u(x,y,t_i))]\\Delta t  $$ \n",
    "and $$ v(x,y, t_{i+1}) = v(x,y,t_i) + [D_v\\nabla^2 v(x,y,t_i)+g(v(x,y,t_i)) ]\\Delta t  $$ \n",
    "\n",
    "Since $u(x,y,0)$ and  $v(x,y,0)$ are part of the boundary conditions, the approximation makes sense. \n"
   ]
  },
  {
   "cell_type": "code",
   "execution_count": 9,
   "metadata": {
    "collapsed": false,
    "deletable": true,
    "editable": true
   },
   "outputs": [],
   "source": [
    "import numpy as np\n",
    "import matplotlib.pyplot as plt\n",
    "%matplotlib inline\n",
    "a = 2.8e-4\n",
    "b = 5e-3\n",
    "tau = .1\n",
    "k = -.005\n",
    "\n",
    "size = 100  # size of the 2D grid\n",
    "dx = 2./size  # space step\n",
    "T = 10.0  # total time\n",
    "dt = .9 * dx**2/2  # time step\n",
    "n = int(T/dt)\n",
    "\n",
    "U = np.random.rand(size, size)\n",
    "V = np.random.rand(size, size)"
   ]
  },
  {
   "cell_type": "markdown",
   "metadata": {},
   "source": [
    "In order to get an approximation of the Laplacian, is $h = \\Delta x = \\Delta y$ we consider\n",
    "$$ \\frac{\\partial u (x,y,t)}{\\partial x} \\approx  \\frac{u(x,y,t)-u(x-h,y,t)}{h} $$ \n",
    "In consequence, $$ \\frac{\\partial ^2 u (x,y,t)}{\\partial x^2} \\approx \\frac{\\frac{u(x+h,y,t)-u((x-h)+h,y,t)}{h} - \\frac{u(x,y,t)-u(x-h,y,t)}{h}}{h} $$\n",
    "$$ \\frac{\\partial ^2 u (x,y,t)}{\\partial x^2} \\approx \\frac{u(x+h,y,t) +u(x-h,y,t) - 2u(x,y,t)}{h^2} $$\n",
    "Similarly, $$ \\frac{\\partial ^2 u (x,y,t)}{\\partial y^2} \\approx \\frac{u(x,y+h,t) +u(x,y-h,t) - 2u(x,y,t)}{h^2} $$\n",
    "Therefore, $$ \\nabla^2u(x,y,t) \\approx \\frac{u(x+h,y,t) +u(x-h,y,t) + u(x,y+h,t) +u(x,y-h,t)- 4u(x,y,t)}{h^2} $$\n"
   ]
  },
  {
   "cell_type": "code",
   "execution_count": 10,
   "metadata": {
    "collapsed": true,
    "deletable": true,
    "editable": true
   },
   "outputs": [],
   "source": [
    "def laplacian(Z):\n",
    "    Ztop = Z[0:-2,1:-1]\n",
    "    Zleft = Z[1:-1,0:-2]\n",
    "    Zbottom = Z[2:,1:-1]\n",
    "    Zright = Z[1:-1,2:]\n",
    "    Zcenter = Z[1:-1,1:-1]\n",
    "    return (Ztop + Zleft + Zbottom + Zright - 4 * Zcenter) / dx**2"
   ]
  },
  {
   "cell_type": "code",
   "execution_count": 11,
   "metadata": {
    "collapsed": false,
    "deletable": true,
    "editable": true
   },
   "outputs": [],
   "source": [
    "# We simulate the PDE with the finite difference method.\n",
    "for i in range(n):\n",
    "    # We compute the Laplacian of u and v.\n",
    "    deltaU = laplacian(U)\n",
    "    deltaV = laplacian(V)\n",
    "    # We take the values of u and v inside the grid.\n",
    "    Uc = U[1:-1,1:-1] \n",
    "    Vc = V[1:-1,1:-1]\n",
    "    # We update the variables.\n",
    "    U[1:-1,1:-1] = Uc + dt * (a * deltaU + Uc - Uc**3 - Vc + k) \n",
    "    V[1:-1,1:-1] = Vc + dt * (b * deltaV + Uc - Vc) / tau   "
   ]
  },
  {
   "cell_type": "code",
   "execution_count": 12,
   "metadata": {
    "collapsed": true,
    "deletable": true,
    "editable": true
   },
   "outputs": [],
   "source": [
    " # Neumann conditions: derivatives at the edges\n",
    "    # are null.\n",
    "for Z in (U, V):\n",
    "    Z[0,:] = Z[1,:]\n",
    "    Z[-1,:] = Z[-2,:]\n",
    "    Z[:,0] = Z[:,1]\n",
    "    Z[:,-1] = Z[:,-2]"
   ]
  },
  {
   "cell_type": "code",
   "execution_count": 13,
   "metadata": {
    "collapsed": false,
    "deletable": true,
    "editable": true
   },
   "outputs": [
    {
     "data": {
      "image/png": "[encoded data removed]",
      "text/plain": [
       "<matplotlib.figure.Figure at 0x109a09710>"
      ]
     },
     "metadata": {},
     "output_type": "display_data"
    }
   ],
   "source": [
    "plt.imshow(U, cmap=plt.cm.copper, extent=[-1,1,-1,1]);\n",
    "plt.xticks([]); plt.yticks([]);"
   ]
  },
  {
   "cell_type": "code",
   "execution_count": null,
   "metadata": {
    "collapsed": true
   },
   "outputs": [],
   "source": []
  }
 ],
 "metadata": {
  "kernelspec": {
   "display_name": "Python 3",
   "language": "python",
   "name": "python3"
  },
  "language_info": {
   "codemirror_mode": {
    "name": "ipython",
    "version": 3
   },
   "file_extension": ".py",
   "mimetype": "text/x-python",
   "name": "python",
   "nbconvert_exporter": "python",
   "pygments_lexer": "ipython3",
   "version": "3.6.0"
  }
 },
 "nbformat": 4,
 "nbformat_minor": 2
}
