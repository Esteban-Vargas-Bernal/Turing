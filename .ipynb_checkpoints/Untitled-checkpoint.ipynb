{
 "cells": [
  {
   "cell_type": "markdown",
   "metadata": {
    "deletable": true,
    "editable": true
   },
   "source": [
    "# Turing patterns\n",
    "\n",
    "This is a tutorial that aims to explore some Turing patters for different reaction functions. We explain and use the method of finite differences to similute the model.\n",
    "\n",
    "The general form of the model is given by a diffusion-reaction equation\n",
    "\n",
    "$$ \\frac{\\partial \\bar{u}}{\\partial t} = D \\nabla ^2 \\bar{u} + f(u)$$ where:\n",
    "\n",
    "* $\\bar{u}(t, \\bar{x}) = (u_1(t, \\bar{x},\\ldots, u_k(t, \\bar{x}))$ is a vector that contains the chemical consentrations of $k$ morphogens that control the system. Each function depends on time $t$ and spatial variables $\\bar{x}$.\n",
    "\n",
    "* $D$ is a matrix that contains the diffusion coefficients.\n",
    "\n",
    "* The raction kinetics is the function $f(\\bar{u})$.\n"
   ]
  },
  {
   "cell_type": "markdown",
   "metadata": {
    "deletable": true,
    "editable": true
   },
   "source": [
    "# Some reaction patterns\n",
    "\n",
    "## Gierer–Meinhardt Kinetics (1972)\n",
    "\n",
    "This is a reaction-diffusion system that has an activator $u$  and an inhibitor $v$. It account for many important types of pattern formation and morphogenes is observed in development. Proof of that requires identification of the purported morphogens, measurement of their spatiotemporal concentrations and kinetics, and demonstration by knockouts or other genetic manipulations that they are essential components of the observed pattern formation. In the book of Mathematical Biology of Murray the qualitative analysis of this system is presented. The dimensionless version of the model is:\n",
    "\n",
    "$$ \\frac{du}{dt}= c_1 - c_2u + c_3\\frac{u^2}{v(1+ku^2)} := f(u,v) $$\n",
    "$$ \\frac{dv}{dt}= c_4 u^2 - c_5 v := g(u,v)$$\n",
    "\n",
    "The inhibitor $v$ is produced due to the autocatalysis of $u$.\n",
    "\n",
    "The model is used to explain the horizontal stripes in the tropical zebra fish. Skin patterns of the fish are maintained by interactions between black and yellow pigmented cells cells that interact according to the proposed model.\n",
    "\n",
    "## Schnakenberg Kinetics \n",
    "\n",
    "This is a simplification of the previous model. Here, $v$ can be thought as a substrate that triggers the catalysis of $u$. \n",
    "\n",
    "$$ \\frac{du}{dt}= c_1 - c_2u + c_3u^2 v := f(u,v) $$\n",
    "$$ \\frac{dv}{dt}= c_2 - c_3 u^2v := g(u,v) $$\n",
    "\n",
    "This substrate would be supplied in a constant rate.\n",
    "\n",
    "## Thomas Kinetics (1975)\n",
    "\n",
    "This model was created to explain the reaction involving the substrates oxygen $v$ and uric acid $u$ which react in in presence of an enzyme called uricase.   \n",
    "\n",
    "$$ \\frac{du}{dt}= c_1 - c_2u - c_3 R(u,v)  := f(u,v) $$\n",
    "$$ \\frac{dv}{dt}= c_4 - c_5 v - c_3 R(u,v) := g(u,v) $$\n",
    "$$ R(u,v) := \\frac{uv}{1+u+Ku^2}$$\n",
    "\n",
    "The term $R(u,v)$ exhibits \"substrate inhibition\", that is, if $u$ is small then $R$ increases, but if $u$ is large then $R$ decreases. Here, both substrates are externally supplied in constant rate and have first-order kinetics removal. In the book of Murray the stability of the system is studied. It is shown that the system could have three steady points and two of them could be stable.\n",
    "\n",
    "## Fitzhug-Nagumo kinetics (1961) \n",
    "\n",
    "This model is a simplification of the model of Hudking-Huxley for the action potential in a neuron. The model relates the membrane potential $v$ and the activation of channels of Sodium and Potassium represented by $u$.\n",
    "\n",
    "$$ \\frac{dv}{dt}= v - \\frac{v^3}{3}-u +I_{ext} := f(u,v) $$\n",
    "$$ \\frac{du}{dt}= \\frac{1}{\\tau}(v + a - bu) := g(u,v) $$\n",
    "\n",
    "This system has the property that if $I_{ext}$ exceeds a certain treshold, there will be periodic solutions."
   ]
  },
  {
   "cell_type": "markdown",
   "metadata": {
    "deletable": true,
    "editable": true
   },
   "source": [
    "# Something on PDE\n",
    "\n",
    "A PDE is a diffrential equation that involves functions that depend on several variables and their partial derivatives. \n",
    "\n",
    "One known example is the heat equation $$ \\frac{\\partial u(x,y,t)}{\\partial t} = -k \\nabla^2 u(x,y,y) = -k(\\frac{\\partial^2 u(x,y,t)}{\\partial x^2}+\\frac{\\partial^2 u(x,y,t)}{\\partial y^2})  $$\n",
    "\n",
    "Or simply $$ \\frac{\\partial u}{\\partial t} = -k \\nabla^2 u $$\n",
    "\n",
    "where $u(x,y,t)$ could represent the temperature in the point $(x,y)$ at the time $t$.\n",
    "\n",
    "See example of the evolution of this equation for exponential solutions in  https://www.youtube.com/watch?v=6QtADgmCGLM There is a code in the description of the video.\n",
    "\n",
    "We start with possible initial conditions of a PDE\n",
    "\n",
    "## Types of Boundary Conditions\n",
    " \n",
    " ### Dirichlet boundary conditions (first type)\n",
    " \n",
    " ### Nuemann boundary conditions (Second type)\n",
    " \n",
    " ### Cauchy boundary conditions \n",
    " \n",
    "## Finite difference method\n",
    "\n",
    "\n"
   ]
  },
  {
   "cell_type": "code",
   "execution_count": null,
   "metadata": {
    "collapsed": true,
    "deletable": true,
    "editable": true
   },
   "outputs": [],
   "source": [
    "import numpy as np\n",
    "import matplotlib.pyplot as plt\n",
    "%matplotlib inline"
   ]
  },
  {
   "cell_type": "code",
   "execution_count": 20,
   "metadata": {
    "collapsed": false,
    "deletable": true,
    "editable": true
   },
   "outputs": [],
   "source": [
    "a = 2.8e-4\n",
    "b = 5e-3\n",
    "tau = .1\n",
    "k = -.005\n",
    "\n",
    "size = 100  # size of the 2D grid\n",
    "dx = 2./size  # space step\n",
    "T = 10.0  # total time\n",
    "dt = .9 * dx**2/2  # time step\n",
    "n = int(T/dt)\n",
    "\n",
    "U = np.random.rand(size, size)\n",
    "V = np.random.rand(size, size)"
   ]
  },
  {
   "cell_type": "code",
   "execution_count": 21,
   "metadata": {
    "collapsed": true,
    "deletable": true,
    "editable": true
   },
   "outputs": [],
   "source": [
    "def laplacian(Z):\n",
    "    Ztop = Z[0:-2,1:-1]\n",
    "    Zleft = Z[1:-1,0:-2]\n",
    "    Zbottom = Z[2:,1:-1]\n",
    "    Zright = Z[1:-1,2:]\n",
    "    Zcenter = Z[1:-1,1:-1]\n",
    "    return (Ztop + Zleft + Zbottom + Zright - 4 * Zcenter) / dx**2"
   ]
  },
  {
   "cell_type": "code",
   "execution_count": 22,
   "metadata": {
    "collapsed": false,
    "deletable": true,
    "editable": true
   },
   "outputs": [],
   "source": [
    "# We simulate the PDE with the finite difference method.\n",
    "for i in range(n):\n",
    "    # We compute the Laplacian of u and v.\n",
    "    deltaU = laplacian(U)\n",
    "    deltaV = laplacian(V)\n",
    "    # We take the values of u and v inside the grid.\n",
    "    Uc = U[1:-1,1:-1] \n",
    "    Vc = V[1:-1,1:-1]\n",
    "    # We update the variables.\n",
    "    U[1:-1,1:-1] = Uc + dt * (a * deltaU + Uc - Uc**3 - Vc + k) \n",
    "    V[1:-1,1:-1] = Vc + dt * (b * deltaV + Uc - Vc) / tau   "
   ]
  },
  {
   "cell_type": "code",
   "execution_count": 23,
   "metadata": {
    "collapsed": true,
    "deletable": true,
    "editable": true
   },
   "outputs": [],
   "source": [
    " # Neumann conditions: derivatives at the edges\n",
    "    # are null.\n",
    "for Z in (U, V):\n",
    "    Z[0,:] = Z[1,:]\n",
    "    Z[-1,:] = Z[-2,:]\n",
    "    Z[:,0] = Z[:,1]\n",
    "    Z[:,-1] = Z[:,-2]"
   ]
  },
  {
   "cell_type": "code",
   "execution_count": 24,
   "metadata": {
    "collapsed": false,
    "deletable": true,
    "editable": true
   },
   "outputs": [
    {
     "data": {
      "image/png": "[encoded data removed]",
      "text/plain": [
       "<matplotlib.figure.Figure at 0x10db4dd30>"
      ]
     },
     "metadata": {},
     "output_type": "display_data"
    }
   ],
   "source": [
    "plt.imshow(U, cmap=plt.cm.copper, extent=[-1,1,-1,1]);\n",
    "plt.xticks([]); plt.yticks([]);"
   ]
  }
 ],
 "metadata": {
  "kernelspec": {
   "display_name": "Python 3",
   "language": "python",
   "name": "python3"
  },
  "language_info": {
   "codemirror_mode": {
    "name": "ipython",
    "version": 3
   },
   "file_extension": ".py",
   "mimetype": "text/x-python",
   "name": "python",
   "nbconvert_exporter": "python",
   "pygments_lexer": "ipython3",
   "version": "3.6.0"
  }
 },
 "nbformat": 4,
 "nbformat_minor": 2
}
