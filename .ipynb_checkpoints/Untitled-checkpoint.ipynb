{
 "cells": [
  {
   "cell_type": "markdown",
   "metadata": {
    "deletable": true,
    "editable": true
   },
   "source": [
    "# Turing patterns\n",
    "\n",
    "This is a tutorial that aims to explore some Turing patters for different reaction functions. We explain and use the method of finite differences to similute the model.\n",
    "\n",
    "The general form of the model is given by a diffusion-reaction equation\n",
    "\n",
    "$$ \\frac{\\partial \\bar{u}}{\\partial t} = D \\nabla ^2 \\bar{u} + f(u)$$ where:\n",
    "\n",
    "* $\\bar{u}(t, \\bar{x}) = (u_1(t, \\bar{x},\\ldots, u_k(t, \\bar{x}))$ is a vector that contains the chemical consentrations of $k$ morphogens that control. Each function depends on time $t$ and spatial variables $\\bar{x}$.\n",
    "\n",
    "* $D$ is a matrix that contains the diffusion coefficients.\n",
    "\n",
    "* The raction kinetics is the function $f(\\bar{u})$.\n"
   ]
  },
  {
   "cell_type": "markdown",
   "metadata": {
    "deletable": true,
    "editable": true
   },
   "source": [
    "## Some reaction patterns\n",
    "\n"
   ]
  },
  {
   "cell_type": "code",
   "execution_count": 1,
   "metadata": {
    "collapsed": false,
    "deletable": true,
    "editable": true
   },
   "outputs": [],
   "source": [
    "import numpy as np\n",
    "import matplotlib.pyplot as plt\n",
    "%matplotlib inline"
   ]
  },
  {
   "cell_type": "code",
   "execution_count": 2,
   "metadata": {
    "collapsed": false,
    "deletable": true,
    "editable": true
   },
   "outputs": [],
   "source": [
    "a = 2.8e-4\n",
    "b = 5e-3\n",
    "tau = .1\n",
    "k = -.005\n",
    "\n",
    "size = 100  # size of the 2D grid\n",
    "dx = 2./size  # space step\n",
    "T = 10.0  # total time\n",
    "dt = .9 * dx**2/2  # time step\n",
    "n = int(T/dt)\n",
    "\n",
    "U = np.random.rand(size, size)\n",
    "V = np.random.rand(size, size)"
   ]
  },
  {
   "cell_type": "code",
   "execution_count": 3,
   "metadata": {
    "collapsed": true
   },
   "outputs": [],
   "source": [
    "def laplacian(Z):\n",
    "    Ztop = Z[0:-2,1:-1]\n",
    "    Zleft = Z[1:-1,0:-2]\n",
    "    Zbottom = Z[2:,1:-1]\n",
    "    Zright = Z[1:-1,2:]\n",
    "    Zcenter = Z[1:-1,1:-1]\n",
    "    return (Ztop + Zleft + Zbottom + Zright - 4 * Zcenter) / dx**2"
   ]
  },
  {
   "cell_type": "code",
   "execution_count": null,
   "metadata": {
    "collapsed": false
   },
   "outputs": [],
   "source": [
    "# We simulate the PDE with the finite difference method.\n",
    "for i in range(n):\n",
    "    # We compute the Laplacian of u and v.\n",
    "    deltaU = laplacian(U)\n",
    "    deltaV = laplacian(V)\n",
    "    # We take the values of u and v inside the grid.\n",
    "    Uc = U[1:-1,1:-1] \n",
    "    Vc = V[1:-1,1:-1]\n",
    "    # We update the variables.\n",
    "    U[1:-1,1:-1] = Uc + dt * (a * deltaU + Uc - Uc**3 - Vc + k) \n",
    "    V[1:-1,1:-1] = Vc + dt * (b * deltaV + Uc - Vc) / tau   "
   ]
  },
  {
   "cell_type": "code",
   "execution_count": null,
   "metadata": {
    "collapsed": true
   },
   "outputs": [],
   "source": [
    " # Neumann conditions: derivatives at the edges\n",
    "    # are null.\n",
    "for Z in (U, V):\n",
    "    Z[0,:] = Z[1,:]\n",
    "    Z[-1,:] = Z[-2,:]\n",
    "    Z[:,0] = Z[:,1]\n",
    "    Z[:,-1] = Z[:,-2]"
   ]
  },
  {
   "cell_type": "code",
   "execution_count": null,
   "metadata": {
    "collapsed": false
   },
   "outputs": [],
   "source": [
    "plt.imshow(U, cmap=plt.cm.copper, extent=[-1,1,-1,1]);\n",
    "plt.xticks([]); plt.yticks([]);"
   ]
  },
  {
   "cell_type": "code",
   "execution_count": null,
   "metadata": {
    "collapsed": true
   },
   "outputs": [],
   "source": [
    "n"
   ]
  }
 ],
 "metadata": {
  "kernelspec": {
   "display_name": "Python 3",
   "language": "python",
   "name": "python3"
  },
  "language_info": {
   "codemirror_mode": {
    "name": "ipython",
    "version": 3
   },
   "file_extension": ".py",
   "mimetype": "text/x-python",
   "name": "python",
   "nbconvert_exporter": "python",
   "pygments_lexer": "ipython3",
   "version": "3.6.0"
  }
 },
 "nbformat": 4,
 "nbformat_minor": 2
}
